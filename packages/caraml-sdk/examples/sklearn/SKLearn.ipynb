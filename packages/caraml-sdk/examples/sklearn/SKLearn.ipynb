{
 "cells": [
  {
   "cell_type": "markdown",
   "metadata": {},
   "source": [
    "# SKLearn Sample"
   ]
  },
  {
   "cell_type": "markdown",
   "metadata": {},
   "source": [
    "## Requirements\n",
    "\n",
    "- Authenticated to gcloud (```gcloud auth application-default login```)"
   ]
  },
  {
   "cell_type": "markdown",
   "metadata": {},
   "source": [
    "This notebook demonstrate how to deploy iris classifier based on Scikit Learn model using MLP "
   ]
  },
  {
   "cell_type": "code",
   "execution_count": 65,
   "metadata": {},
   "outputs": [
    {
     "name": "stdout",
     "output_type": "stream",
     "text": [
      "scikit-learn>=1.1.2\n",
      "# caraml\n",
      "joblib>=0.13.0,<1.2.0  # >=1.2.0 upon upgrade of kserve's version\n",
      "cloudpickle==2.0.0"
     ]
    }
   ],
   "source": [
    "!cat requirements.txt"
   ]
  },
  {
   "cell_type": "code",
   "execution_count": 1,
   "metadata": {},
   "outputs": [
    {
     "name": "stdout",
     "output_type": "stream",
     "text": [
      "caraml-auth-google        0.0.0.post7\n",
      "caraml_sdk                0.0.0.post73.dev0\n",
      "caraml-upi-protos         1.0.0\n",
      "\n",
      "\u001b[1m[\u001b[0m\u001b[34;49mnotice\u001b[0m\u001b[1;39;49m]\u001b[0m\u001b[39;49m A new release of pip is available: \u001b[0m\u001b[31;49m23.3.2\u001b[0m\u001b[39;49m -> \u001b[0m\u001b[32;49m24.0\u001b[0m\n",
      "\u001b[1m[\u001b[0m\u001b[34;49mnotice\u001b[0m\u001b[1;39;49m]\u001b[0m\u001b[39;49m To update, run: \u001b[0m\u001b[32;49mpip install --upgrade pip\u001b[0m\n"
     ]
    }
   ],
   "source": [
    "!pip list | grep caram"
   ]
  },
  {
   "cell_type": "code",
   "execution_count": 6,
   "metadata": {},
   "outputs": [
    {
     "name": "stdout",
     "output_type": "stream",
     "text": [
      "\n",
      "\u001b[1m[\u001b[0m\u001b[34;49mnotice\u001b[0m\u001b[1;39;49m]\u001b[0m\u001b[39;49m A new release of pip is available: \u001b[0m\u001b[31;49m23.3.2\u001b[0m\u001b[39;49m -> \u001b[0m\u001b[32;49m24.0\u001b[0m\n",
      "\u001b[1m[\u001b[0m\u001b[34;49mnotice\u001b[0m\u001b[1;39;49m]\u001b[0m\u001b[39;49m To update, run: \u001b[0m\u001b[32;49mpip install --upgrade pip\u001b[0m\n"
     ]
    }
   ],
   "source": [
    "!pip3 install --upgrade -r requirements.txt > /dev/null"
   ]
  },
  {
   "cell_type": "code",
   "execution_count": 1,
   "metadata": {},
   "outputs": [
    {
     "name": "stderr",
     "output_type": "stream",
     "text": [
      "/Users/kuppilpawanmaniteja/Documents/github/venv-caraml-sdk-test/lib/python3.8/site-packages/pydantic/_internal/_fields.py:149: UserWarning: Field \"model_id\" has conflict with protected namespace \"model_\".\n",
      "\n",
      "You may be able to resolve this warning by setting `model_config['protected_namespaces'] = ()`.\n",
      "  warnings.warn(\n",
      "/Users/kuppilpawanmaniteja/Documents/github/venv-caraml-sdk-test/lib/python3.8/site-packages/pydantic/_internal/_fields.py:149: UserWarning: Field \"model_endpoint_id\" has conflict with protected namespace \"model_\".\n",
      "\n",
      "You may be able to resolve this warning by setting `model_config['protected_namespaces'] = ()`.\n",
      "  warnings.warn(\n",
      "/Users/kuppilpawanmaniteja/Documents/github/venv-caraml-sdk-test/lib/python3.8/site-packages/pydantic/_internal/_fields.py:149: UserWarning: Field \"model_prediction_output\" has conflict with protected namespace \"model_\".\n",
      "\n",
      "You may be able to resolve this warning by setting `model_config['protected_namespaces'] = ()`.\n",
      "  warnings.warn(\n",
      "/Users/kuppilpawanmaniteja/Documents/github/venv-caraml-sdk-test/lib/python3.8/site-packages/pydantic/_internal/_fields.py:149: UserWarning: Field \"model_prediction_config\" has conflict with protected namespace \"model_\".\n",
      "\n",
      "You may be able to resolve this warning by setting `model_config['protected_namespaces'] = ()`.\n",
      "  warnings.warn(\n",
      "/Users/kuppilpawanmaniteja/Documents/github/venv-caraml-sdk-test/lib/python3.8/site-packages/pydantic/_internal/_fields.py:149: UserWarning: Field \"model_schema\" has conflict with protected namespace \"model_\".\n",
      "\n",
      "You may be able to resolve this warning by setting `model_config['protected_namespaces'] = ()`.\n",
      "  warnings.warn(\n"
     ]
    }
   ],
   "source": [
    "# import basic\n",
    "import warnings\n",
    "import os\n",
    "\n",
    "# Import modeling lib\n",
    "from sklearn import svm\n",
    "from sklearn import datasets\n",
    "from joblib import dump\n",
    "from sklearn.datasets import load_iris\n",
    "\n",
    "# Load merlin SDK\n",
    "import caraml\n",
    "from caraml.client.caraml_client import CaraMLClient\n",
    "from caraml.models.model import ModelType\n",
    "# warnings.filterwarnings('ignore')"
   ]
  },
  {
   "cell_type": "code",
   "execution_count": 2,
   "metadata": {},
   "outputs": [],
   "source": [
    "import logging\n",
    "logging.basicConfig()\n",
    "loggers = [logging.getLogger(name) for name in logging.root.manager.loggerDict]\n",
    "for logger in loggers:\n",
    "    logger.setLevel(logging.DEBUG)\n"
   ]
  },
  {
   "cell_type": "markdown",
   "metadata": {},
   "source": [
    "## 1. Initialize MLP Resources"
   ]
  },
  {
   "cell_type": "markdown",
   "metadata": {},
   "source": [
    "### 1.1 Set MLP Server"
   ]
  },
  {
   "cell_type": "code",
   "execution_count": 3,
   "metadata": {},
   "outputs": [
    {
     "name": "stderr",
     "output_type": "stream",
     "text": [
      "DEBUG:google.auth.transport.requests:Making request: POST https://oauth2.googleapis.com/token\n",
      "DEBUG:urllib3.connectionpool:Starting new HTTPS connection (1): oauth2.googleapis.com:443\n",
      "DEBUG:urllib3.connectionpool:https://oauth2.googleapis.com:443 \"POST /token HTTP/1.1\" 200 None\n",
      "DEBUG:google.auth.transport.requests:Making request: POST https://oauth2.googleapis.com/token\n",
      "DEBUG:urllib3.connectionpool:Starting new HTTPS connection (1): oauth2.googleapis.com:443\n",
      "DEBUG:urllib3.connectionpool:https://oauth2.googleapis.com:443 \"POST /token HTTP/1.1\" 200 None\n",
      "DEBUG:caraml_client:Registered 3 from MLP. methods: ['get_project', 'list_projects', 'set_project']\n",
      "DEBUG:caraml_client:Registered 12 from Models. methods: ['deploy', 'get_default_environment', 'get_environment', 'get_model', 'get_or_create_model', 'get_or_create_project', 'get_project', 'list_environment', 'list_project', 'new_model_version', 'standard_transformer_simulate', 'undeploy']\n",
      "DEBUG:caraml_client:setting method name: get_project using client: <caraml.mlp.mlp_client.MLPClient object at 0x7fcbe8e77610>\n",
      "DEBUG:caraml_client:setting method name: list_projects using client: <caraml.mlp.mlp_client.MLPClient object at 0x7fcbe8e77610>\n",
      "DEBUG:caraml_client:setting method name: set_project using client: <caraml.mlp.mlp_client.MLPClient object at 0x7fcbe8e77610>\n",
      "DEBUG:caraml_client:setting method name: deploy using client: <caraml.models.merlin_client.MerlinClient object at 0x7fcbe4c89940>\n",
      "DEBUG:caraml_client:setting method name: get_default_environment using client: <caraml.models.merlin_client.MerlinClient object at 0x7fcbe4c89940>\n",
      "DEBUG:caraml_client:setting method name: get_environment using client: <caraml.models.merlin_client.MerlinClient object at 0x7fcbe4c89940>\n",
      "DEBUG:caraml_client:setting method name: get_model using client: <caraml.models.merlin_client.MerlinClient object at 0x7fcbe4c89940>\n",
      "DEBUG:caraml_client:setting method name: get_or_create_model using client: <caraml.models.merlin_client.MerlinClient object at 0x7fcbe4c89940>\n",
      "DEBUG:caraml_client:setting method name: get_or_create_project using client: <caraml.models.merlin_client.MerlinClient object at 0x7fcbe4c89940>\n",
      "DEBUG:caraml_client:setting method name: list_environment using client: <caraml.models.merlin_client.MerlinClient object at 0x7fcbe4c89940>\n",
      "DEBUG:caraml_client:setting method name: list_project using client: <caraml.models.merlin_client.MerlinClient object at 0x7fcbe4c89940>\n",
      "DEBUG:caraml_client:setting method name: new_model_version using client: <caraml.models.merlin_client.MerlinClient object at 0x7fcbe4c89940>\n",
      "DEBUG:caraml_client:setting method name: standard_transformer_simulate using client: <caraml.models.merlin_client.MerlinClient object at 0x7fcbe4c89940>\n",
      "DEBUG:caraml_client:setting method name: undeploy using client: <caraml.models.merlin_client.MerlinClient object at 0x7fcbe4c89940>\n"
     ]
    }
   ],
   "source": [
    "# Set MLP Server\n",
    "CARAML_URL = os.environ.get(\"CARAML_URL\", \"http://console.d.ai.golabs.io\")\n",
    "caraml = CaraMLClient(caraml_url=CARAML_URL, use_google_oauth=True)"
   ]
  },
  {
   "cell_type": "code",
   "execution_count": 4,
   "metadata": {},
   "outputs": [
    {
     "name": "stdout",
     "output_type": "stream",
     "text": [
      "Caraml Server URL: http://console.d.ai.golabs.io\n"
     ]
    }
   ],
   "source": [
    "# Print MLP Server URL\n",
    "print(\"Caraml Server URL: {}\".format(CARAML_URL))"
   ]
  },
  {
   "cell_type": "markdown",
   "metadata": {},
   "source": [
    "### 1.2 Set Active Project\n",
    "\n",
    "`project` represent a project in real life. You may have multiple model within a project.\n",
    "\n",
    "`merlin.set_project(<project_name>)` will set the active project into the name matched by argument. You can only set it to an existing project. If you would like to create a new project, please do so from the MLP console at http://localhost:8080/projects/create."
   ]
  },
  {
   "cell_type": "code",
   "execution_count": 5,
   "metadata": {},
   "outputs": [
    {
     "name": "stderr",
     "output_type": "stream",
     "text": [
      "DEBUG:urllib3.connectionpool:Starting new HTTP connection (1): console.d.ai.golabs.io:80\n",
      "DEBUG:urllib3.connectionpool:http://console.d.ai.golabs.io:80 \"GET /api/v1/projects?name=teja-test-project HTTP/1.1\" 200 291\n"
     ]
    }
   ],
   "source": [
    "caraml.set_project(\"teja-test-project\")"
   ]
  },
  {
   "cell_type": "code",
   "execution_count": 6,
   "metadata": {},
   "outputs": [
    {
     "name": "stderr",
     "output_type": "stream",
     "text": [
      "DEBUG:urllib3.connectionpool:Starting new HTTP connection (1): console.d.ai.golabs.io:80\n",
      "DEBUG:urllib3.connectionpool:http://console.d.ai.golabs.io:80 \"GET /api/merlin/v1/environments HTTP/1.1\" 200 1559\n"
     ]
    },
    {
     "data": {
      "text/plain": [
       "[<caraml.models.environment.Environment at 0x7fcbeb48bfd0>,\n",
       " <caraml.models.environment.Environment at 0x7fcbe6d63790>]"
      ]
     },
     "execution_count": 6,
     "metadata": {},
     "output_type": "execute_result"
    }
   ],
   "source": [
    "caraml.list_environment()"
   ]
  },
  {
   "cell_type": "markdown",
   "metadata": {},
   "source": [
    "### 1.3 Set Active Model\n",
    "\n",
    "`model` represents an abstract ML model. Conceptually, `model` in MLP is similar to a class in programming language. To instantiate a `model` you'll have to create a `model_version`.\n",
    "\n",
    "Each `model` has a type, currently model type supported by MLP are: sklearn, xgboost, tensorflow, pytorch, and user defined model (i.e. pyfunc model).\n",
    "\n",
    "`model_version` represents a snapshot of particular `model` iteration. You'll be able to attach information such as metrics and tag to a given `model_version` as well as deploy it as a model service.\n",
    "\n",
    "`merlin.set_model(<model_name>, <model_type>)` will set the active model to the name given by parameter, if the model with given name is not found, a new model will be created."
   ]
  },
  {
   "cell_type": "code",
   "execution_count": 7,
   "metadata": {},
   "outputs": [
    {
     "name": "stderr",
     "output_type": "stream",
     "text": [
      "DEBUG:urllib3.connectionpool:http://console.d.ai.golabs.io:80 \"GET /api/v1/projects?name=teja-test-project HTTP/1.1\" 200 291\n",
      "DEBUG:urllib3.connectionpool:http://console.d.ai.golabs.io:80 \"GET /api/merlin/v1/projects/129/models?name=sklearn-sample HTTP/1.1\" 200 264\n"
     ]
    }
   ],
   "source": [
    "model = caraml.get_or_create_model(\"sklearn-sample\", project_name=\"teja-test-project\", model_type= ModelType.SKLEARN)"
   ]
  },
  {
   "cell_type": "markdown",
   "metadata": {},
   "source": [
    "## 2. Train and Deploy"
   ]
  },
  {
   "cell_type": "markdown",
   "metadata": {},
   "source": [
    "### 2.1 Train and Upload Model"
   ]
  },
  {
   "cell_type": "markdown",
   "metadata": {},
   "source": [
    "`merlin.new_model_version()` is a convenient method to create a model version and start its development process. It is equal to following codes:\n",
    "\n",
    "```\n",
    "v = model.new_model_version()\n",
    "v.start()\n",
    "v.log_model(model_dir=model_dir)\n",
    "v.finish()\n",
    "```"
   ]
  },
  {
   "cell_type": "code",
   "execution_count": 8,
   "metadata": {},
   "outputs": [
    {
     "data": {
      "text/plain": [
       "['sklearn-model/model.joblib']"
      ]
     },
     "execution_count": 8,
     "metadata": {},
     "output_type": "execute_result"
    }
   ],
   "source": [
    "model_dir = \"sklearn-model\"\n",
    "MODEL_FILE = \"model.joblib\"\n",
    "\n",
    "clf = svm.SVC(gamma='scale')\n",
    "iris = datasets.load_iris()\n",
    "X, y = iris.data, iris.target\n",
    "clf.fit(X, y)\n",
    "\n",
    "# Save model to local directory\n",
    "dump(clf, os.path.join(model_dir, MODEL_FILE))\n"
   ]
  },
  {
   "cell_type": "code",
   "execution_count": 9,
   "metadata": {},
   "outputs": [
    {
     "name": "stderr",
     "output_type": "stream",
     "text": [
      "DEBUG:urllib3.connectionpool:http://console.d.ai.golabs.io:80 \"POST /api/merlin/v1/models/360/versions HTTP/1.1\" 201 691\n",
      "DEBUG:urllib3.connectionpool:Starting new HTTPS connection (1): mlflow.d.ai.golabs.io:443\n",
      "DEBUG:urllib3.connectionpool:https://mlflow.d.ai.golabs.io:443 \"GET /api/2.0/mlflow/runs/get?run_uuid=2f48073d9da9449aabb46f8d2bb992b4&run_id=2f48073d9da9449aabb46f8d2bb992b4 HTTP/1.1\" 200 406\n",
      "DEBUG:urllib3.connectionpool:https://mlflow.d.ai.golabs.io:443 \"GET /api/2.0/mlflow/experiments/get?experiment_id=2976 HTTP/1.1\" 200 190\n",
      "DEBUG:urllib3.connectionpool:https://mlflow.d.ai.golabs.io:443 \"GET /api/2.0/mlflow/runs/get?run_uuid=2f48073d9da9449aabb46f8d2bb992b4&run_id=2f48073d9da9449aabb46f8d2bb992b4 HTTP/1.1\" 200 406\n",
      "DEBUG:urllib3.connectionpool:https://mlflow.d.ai.golabs.io:443 \"POST /api/2.0/mlflow/runs/update HTTP/1.1\" 200 359\n",
      "DEBUG:urllib3.connectionpool:https://mlflow.d.ai.golabs.io:443 \"GET /api/2.0/mlflow/runs/get?run_uuid=2f48073d9da9449aabb46f8d2bb992b4&run_id=2f48073d9da9449aabb46f8d2bb992b4 HTTP/1.1\" 200 406\n",
      "DEBUG:urllib3.connectionpool:https://mlflow.d.ai.golabs.io:443 \"GET /api/2.0/mlflow/runs/get?run_uuid=2f48073d9da9449aabb46f8d2bb992b4&run_id=2f48073d9da9449aabb46f8d2bb992b4 HTTP/1.1\" 200 406\n",
      "DEBUG:google.auth._default:Checking None for explicit credentials as part of auth process...\n",
      "DEBUG:google.auth._default:Checking Cloud SDK credentials as part of auth process...\n",
      "DEBUG:google.auth._default:Checking None for explicit credentials as part of auth process...\n",
      "DEBUG:google.auth._default:Checking Cloud SDK credentials as part of auth process...\n",
      "DEBUG:urllib3.util.retry:Converted retries value: 3 -> Retry(total=3, connect=None, read=None, redirect=None, status=None)\n",
      "DEBUG:google.auth.transport.requests:Making request: POST https://oauth2.googleapis.com/token\n",
      "DEBUG:urllib3.connectionpool:Starting new HTTPS connection (1): oauth2.googleapis.com:443\n",
      "DEBUG:urllib3.connectionpool:https://oauth2.googleapis.com:443 \"POST /token HTTP/1.1\" 200 None\n",
      "DEBUG:urllib3.connectionpool:Starting new HTTPS connection (1): storage.googleapis.com:443\n",
      "DEBUG:urllib3.connectionpool:https://storage.googleapis.com:443 \"POST /upload/storage/v1/b/d-gods-mlp/o?uploadType=multipart HTTP/1.1\" 200 978\n",
      "DEBUG:urllib3.connectionpool:https://storage.googleapis.com:443 \"POST /upload/storage/v1/b/d-gods-mlp/o?uploadType=multipart HTTP/1.1\" 200 1009\n",
      "DEBUG:urllib3.connectionpool:https://mlflow.d.ai.golabs.io:443 \"POST /api/2.0/mlflow/runs/update HTTP/1.1\" 200 393\n"
     ]
    }
   ],
   "source": [
    "# Create new version of the model\n",
    "v = model.new_model_version()\n",
    "v.start()\n",
    "v.log_model(model_dir=model_dir)\n",
    "v.finish()"
   ]
  },
  {
   "cell_type": "markdown",
   "metadata": {},
   "source": [
    "## 2.2 Deploy Model"
   ]
  },
  {
   "cell_type": "code",
   "execution_count": 10,
   "metadata": {},
   "outputs": [
    {
     "name": "stderr",
     "output_type": "stream",
     "text": [
      "DEBUG:urllib3.connectionpool:http://console.d.ai.golabs.io:80 \"GET /api/merlin/v1/environments HTTP/1.1\" 200 1559\n",
      "DEBUG:urllib3.connectionpool:http://console.d.ai.golabs.io:80 \"POST /api/merlin/v1/models/360/versions/6/endpoint HTTP/1.1\" 201 1658\n",
      "Deploying model sklearn-sample version 6\n",
      "DEBUG:urllib3.connectionpool:http://console.d.ai.golabs.io:80 \"GET /api/merlin/v1/models/360/versions/6/endpoint/bfda523c-cae5-46a8-9bea-06416260bbdd HTTP/1.1\" 200 1667\n",
      "DEBUG:urllib3.connectionpool:http://console.d.ai.golabs.io:80 \"GET /api/merlin/v1/models/360/versions/6/endpoint/bfda523c-cae5-46a8-9bea-06416260bbdd HTTP/1.1\" 200 1667\n",
      "DEBUG:urllib3.connectionpool:http://console.d.ai.golabs.io:80 \"GET /api/merlin/v1/models/360/versions/6/endpoint/bfda523c-cae5-46a8-9bea-06416260bbdd HTTP/1.1\" 200 1667\n",
      "DEBUG:urllib3.connectionpool:http://console.d.ai.golabs.io:80 \"GET /api/merlin/v1/models/360/versions/6/endpoint/bfda523c-cae5-46a8-9bea-06416260bbdd HTTP/1.1\" 200 1667\n",
      "0% [#                             ] 100% | ETA: 00:08:38DEBUG:urllib3.connectionpool:http://console.d.ai.golabs.io:80 \"GET /api/merlin/v1/models/360/versions/6/endpoint/bfda523c-cae5-46a8-9bea-06416260bbdd HTTP/1.1\" 200 1667\n",
      "DEBUG:urllib3.connectionpool:http://console.d.ai.golabs.io:80 \"GET /api/merlin/v1/models/360/versions/6/endpoint/bfda523c-cae5-46a8-9bea-06416260bbdd HTTP/1.1\" 200 1667\n",
      "DEBUG:urllib3.connectionpool:http://console.d.ai.golabs.io:80 \"GET /api/merlin/v1/models/360/versions/6/endpoint/bfda523c-cae5-46a8-9bea-06416260bbdd HTTP/1.1\" 200 1853\n",
      "0% [##############################] 100% | ETA: 00:00:00\n",
      "Total time elapsed: 00:00:32\n"
     ]
    },
    {
     "name": "stdout",
     "output_type": "stream",
     "text": [
      "Model sklearn-sample version 6 is deployed.\n",
      "View model version logs: http://console.d.ai.golabs.io/merlin/projects/129/models/360/versions/6/endpoints/bfda523c-cae5-46a8-9bea-06416260bbdd/logs\n"
     ]
    },
    {
     "name": "stderr",
     "output_type": "stream",
     "text": [
      "DEBUG:urllib3.connectionpool:http://console.d.ai.golabs.io:80 \"GET /api/merlin/v1/models/360/versions/6/endpoint HTTP/1.1\" 200 1855\n"
     ]
    }
   ],
   "source": [
    "endpoint = caraml.deploy(v)"
   ]
  },
  {
   "cell_type": "markdown",
   "metadata": {},
   "source": [
    "## 2.3 Send Test Request"
   ]
  },
  {
   "cell_type": "code",
   "execution_count": 11,
   "metadata": {},
   "outputs": [
    {
     "name": "stderr",
     "output_type": "stream",
     "text": [
      "DEBUG:asyncio:Using selector: KqueueSelector\n",
      "Note: Unnecessary use of -X or --request, POST is already inferred.\n",
      "  % Total    % Received % Xferd  Average Speed   Time    Time     Time  Current\n",
      "                                 Dload  Upload   Total   Spent    Left  Speed\n",
      "  0     0    0     0    0     0      0      0 --:--:-- --:--:-- --:--:--     0*   Trying 10.203.170.169:80...\n",
      "* Connected to sklearn-sample-6.teja-test-project.models.id.d.gods.golabs.io (10.203.170.169) port 80 (#0)\n",
      "> POST /v1/models/sklearn-sample-6:predict HTTP/1.1\n",
      "> Host: sklearn-sample-6.teja-test-project.models.id.d.gods.golabs.io\n",
      "> User-Agent: curl/8.1.2\n",
      "> Accept: */*\n",
      "> Content-Length: 81\n",
      "> Content-Type: application/x-www-form-urlencoded\n",
      "> \n",
      "} [81 bytes data]\n",
      "< HTTP/1.1 200 OK\n",
      "< content-length: 21\n",
      "< content-type: application/json\n",
      "< date: Mon, 04 Mar 2024 09:54:04 GMT\n",
      "< server: istio-envoy\n",
      "< x-envoy-upstream-service-time: 13\n",
      "< \n",
      "{ [21 bytes data]\n",
      "100   102  100    21  100    81     85    329 --:--:-- --:--:-- --:--:--   432\n",
      "* Connection #0 to host sklearn-sample-6.teja-test-project.models.id.d.gods.golabs.io left intact\n"
     ]
    },
    {
     "name": "stdout",
     "output_type": "stream",
     "text": [
      "{\"predictions\":[2,2]}"
     ]
    }
   ],
   "source": [
    "%%bash -s \"$endpoint.url\"\n",
    "curl -v -X POST $1 -d '{\n",
    "  \"instances\": [\n",
    "    [2.8,  1.0,  6.8,  0.4],\n",
    "    [3.1,  1.4,  4.5,  1.6]\n",
    "  ]\n",
    "}'"
   ]
  },
  {
   "cell_type": "markdown",
   "metadata": {},
   "source": [
    "## 3.4 Delete Deployment"
   ]
  },
  {
   "cell_type": "code",
   "execution_count": 12,
   "metadata": {
    "pycharm": {
     "name": "#%%\n"
    }
   },
   "outputs": [
    {
     "name": "stderr",
     "output_type": "stream",
     "text": [
      "DEBUG:urllib3.connectionpool:http://console.d.ai.golabs.io:80 \"GET /api/merlin/v1/environments HTTP/1.1\" 200 1559\n",
      "DEBUG:urllib3.connectionpool:http://console.d.ai.golabs.io:80 \"GET /api/merlin/v1/models/360/versions/6/endpoint HTTP/1.1\" 200 1855\n"
     ]
    },
    {
     "name": "stdout",
     "output_type": "stream",
     "text": [
      "Deleting deployment of model sklearn-sample version 6 from enviroment id-dev\n"
     ]
    },
    {
     "name": "stderr",
     "output_type": "stream",
     "text": [
      "DEBUG:urllib3.connectionpool:http://console.d.ai.golabs.io:80 \"DELETE /api/merlin/v1/models/360/versions/6/endpoint/bfda523c-cae5-46a8-9bea-06416260bbdd HTTP/1.1\" 200 0\n"
     ]
    }
   ],
   "source": [
    "caraml.undeploy(v)"
   ]
  },
  {
   "cell_type": "code",
   "execution_count": null,
   "metadata": {},
   "outputs": [],
   "source": []
  }
 ],
 "metadata": {
  "kernelspec": {
   "display_name": "Python 3 (ipykernel)",
   "language": "python",
   "name": "python3"
  },
  "language_info": {
   "codemirror_mode": {
    "name": "ipython",
    "version": 3
   },
   "file_extension": ".py",
   "mimetype": "text/x-python",
   "name": "python",
   "nbconvert_exporter": "python",
   "pygments_lexer": "ipython3",
   "version": "3.8.5"
  }
 },
 "nbformat": 4,
 "nbformat_minor": 4
}
